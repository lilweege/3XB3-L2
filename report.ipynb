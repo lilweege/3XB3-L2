{
 "cells": [
  {
   "cell_type": "markdown",
   "id": "d0f21658-40c8-40c9-99d2-ec8c0b42e84f",
   "metadata": {},
   "source": [
    "# Bin Packing Lab"
   ]
  },
  {
   "cell_type": "markdown",
   "id": "f9ffdec9-9fcb-4a7b-910e-abecc6352210",
   "metadata": {},
   "source": [
    "- Authors:\n",
    "  - Luigi Quattrociocchi (quattrl@mcmaster.ca)\n",
    "  - Dennis Fong (fongd1@mcmaster.ca)\n",
    "- Group ID on Avenue: 42\n",
    "- Gitlab URL: https://gitlab.cas.mcmaster.ca/quattrl/l2-bin-packing"
   ]
  },
  {
   "cell_type": "markdown",
   "id": "fcb763d5-aa1a-4ef1-a6ba-e3cbaae313aa",
   "metadata": {},
   "source": [
    "## How to use the provided code?"
   ]
  },
  {
   "cell_type": "markdown",
   "id": "a0308135-ad12-4563-92b8-45681d3e90a2",
   "metadata": {},
   "source": [
    "_(this section is just here for information, you can get rid of it in your own report)_"
   ]
  },
  {
   "cell_type": "code",
   "execution_count": 1,
   "id": "2166b346-058f-4619-9072-e6fbe608fa0e",
   "metadata": {},
   "outputs": [],
   "source": [
    "from macpacking.reader import DatasetReader, BinppReader, JBurkardtReader\n",
    "from macpacking.model  import Online, Offline\n",
    "import macpacking.algorithms.offline as offline"
   ]
  },
  {
   "cell_type": "markdown",
   "id": "5fe23917-cc5c-4883-9a2a-581f3fbb2ba4",
   "metadata": {},
   "source": [
    "Now that the business code is imported, we can load an existing dataset"
   ]
  },
  {
   "cell_type": "code",
   "execution_count": 2,
   "id": "21df8c2c-a6fa-434b-88c3-361404872819",
   "metadata": {},
   "outputs": [
    {
     "name": "stdout",
     "output_type": "stream",
     "text": [
      "Dataset: _datasets/jburkardt/p01_c.txt, _datasets/jburkardt/p01_w.txt\n",
      "  - Bin Capacity: 100\n",
      "  - Objects to pack: [3, 7, 11, 33, 33, 33, 50, 60, 70]\n"
     ]
    }
   ],
   "source": [
    "# dataset = '_datasets/binpp/N1C1W1/N1C1W1_B.BPP.txt'\n",
    "# dataset = '_datasets/binpp-hard/HARD0.BPP.txt'\n",
    "# reader: DatasetReader = BinppReader(dataset)\n",
    "# print(f'Dataset: {dataset}')\n",
    "# print(f'  - Bin Capacity: {reader.offline()[0]}')\n",
    "# print(f'  - Objects to pack: {sorted(reader.offline()[1])}')\n",
    "\n",
    "dataset_capacity = '_datasets/jburkardt/p01_c.txt'\n",
    "dataset_weights = '_datasets/jburkardt/p01_w.txt'\n",
    "reader: DatasetReader = JBurkardtReader(dataset_capacity, dataset_weights)\n",
    "print(f'Dataset: {dataset_capacity}, {dataset_weights}')\n",
    "print(f'  - Bin Capacity: {reader.offline()[0]}')\n",
    "print(f'  - Objects to pack: {sorted(reader.offline()[1])}')"
   ]
  },
  {
   "cell_type": "markdown",
   "id": "0ec54798-4c40-4a2c-a88f-59d6da87975e",
   "metadata": {},
   "source": [
    "Acording to the `oracle.xslx` file, we now that the optimal solution for this case is to use _31_ bins. Let's call the baseline algorithm, which is an offline one, and see how it performs."
   ]
  },
  {
   "cell_type": "code",
   "execution_count": 3,
   "id": "6358d7c1-1777-4c63-af33-d4ebfea952a7",
   "metadata": {},
   "outputs": [
    {
     "name": "stdout",
     "output_type": "stream",
     "text": [
      "nb_bins = 4\n",
      "[[33], [50, 33, 11, 3], [60, 33, 7], [70]]\n"
     ]
    }
   ],
   "source": [
    "import macpacking.algorithms.baseline as baseline\n",
    "strategy: Offline = baseline.BenMaier()\n",
    "result = strategy(reader.offline())\n",
    "print(f'nb_bins = {len(result)}')\n",
    "print(f'{sorted(result)}')"
   ]
  },
  {
   "cell_type": "markdown",
   "id": "74e4777c-bd24-4d4f-a3bc-8465cc5ec346",
   "metadata": {},
   "source": [
    "So the baseline finds the optimal solution. That's good news! Let's call our very own version of `NextFit`, as an offline algorithm."
   ]
  },
  {
   "cell_type": "code",
   "execution_count": 4,
   "id": "300c2945-fb05-4ab7-9f63-78568bb2f666",
   "metadata": {},
   "outputs": [
    {
     "name": "stdout",
     "output_type": "stream",
     "text": [
      "nb_bins = 4\n",
      "[[33, 33, 11, 7, 3], [50, 33], [60], [70]]\n"
     ]
    }
   ],
   "source": [
    "import macpacking.algorithms.online as online\n",
    "strategy: Offline = offline.NextFit()\n",
    "result = strategy(reader.offline())\n",
    "print(f'nb_bins = {len(result)}')\n",
    "print(f'{sorted(result)}')"
   ]
  },
  {
   "cell_type": "markdown",
   "id": "10828372-717e-4a8e-bce5-bdb6781ba33f",
   "metadata": {},
   "source": [
    "Damn it, this algorithm is 4 bins far from the optimal solution! Let's try an online version. Usually, they perform worst, so let's measure it."
   ]
  },
  {
   "cell_type": "code",
   "execution_count": 5,
   "id": "50de8648-a261-4e84-bc56-14beefccde46",
   "metadata": {},
   "outputs": [
    {
     "name": "stdout",
     "output_type": "stream",
     "text": [
      "nb_bins = 4\n",
      "[[33, 11, 7, 33, 3], [50, 33], [60], [70]]\n"
     ]
    }
   ],
   "source": [
    "strategy: Online = online.NextFit()\n",
    "result = strategy(reader.online())\n",
    "print(f'nb_bins = {len(result)}')\n",
    "print(f'{sorted(result)}')"
   ]
  },
  {
   "cell_type": "markdown",
   "id": "c523a4f3-6957-4963-ae74-f0009a66d204",
   "metadata": {},
   "source": [
    "As expected, the online version is worst!"
   ]
  },
  {
   "cell_type": "code",
   "execution_count": 6,
   "id": "49be4b30-d780-438b-9071-caf0dc0cc288",
   "metadata": {},
   "outputs": [
    {
     "name": "stdout",
     "output_type": "stream",
     "text": [
      "nb_bins = 9\n",
      "[[3], [7], [11], [33], [33], [33], [50], [60], [70]]\n"
     ]
    }
   ],
   "source": [
    "strategy: Online = online.TerribleFit()\n",
    "result = strategy(reader.online())\n",
    "print(f'nb_bins = {len(result)}')\n",
    "print(f'{sorted(result)}')"
   ]
  },
  {
   "cell_type": "markdown",
   "id": "f219b522-a907-42a9-9fa8-75e6e893954b",
   "metadata": {},
   "source": [
    "## Task 1\n",
    "\n",
    "### Explanation of SOLID principles\n",
    "\n",
    "The given code follows many design practices and implements many classic design patterns. This allows it to fulfil a couple of the SOLID principles.\n",
    "\n",
    "**S: Single Responsibility**  \n",
    "Each class has a single responsibility. For instance, the `DatasetReader` class is only responsible for transforming data from the disk into a format usable by other classes. Likewise, each concrete bin packing problem implementation has one responsibility: solving the bin packing problem.\n",
    "\n",
    "**O: Open-closed**  \n",
    "The existence of the `Online` and `Offline` abstract classes allow for extentibility in the addition of new algorithms, without requiring modifications of any existing classes. The same reasoning applies for the `DatasetReader` class.\n",
    "\n",
    "**L: Liskov substitution**  \n",
    "This is obviously satified with the `Online` and `Offline` base classes and its derived classes; the online and offline bin packing algorithms `NextFit_On`, `NextFit_Off`, and `BenMaier`, can be used as if they were their parent classes `Online` and `Offline`.\n",
    "\n",
    "**I: Interface Segregation**  \n",
    "This property is also obviously maintained. Both `BinPacker` subclasses and `DatasetReader` only provide one abstract method each, which every subclass implements. The `BinPacker` interface itself has no methods, as there is currently no shared interface between the online and offline algorithms (the process functions take different sets of parameters).\n",
    "\n",
    "**D: Dependency Inversion**  \n",
    "Similarly to the Liskov substitution principle, the abstract classes `Online` and `Offline` can be depended upon rather than their concrete subclasses. This is demonstrated in the Jupyter Notebook, in which online and offline strategies are created and used.\n",
    "\n",
    "### Explanation of dataset dimensions\n",
    "There are three important dimensions which we consider in the dataset.\n",
    "- N: Number of items\n",
    "- C: Bin capacity\n",
    "- W: Weight (size) of each item\n",
    "\n",
    "**Number of items**  \n",
    "This number represents the total number of items we want to put into bins. This quantity is important because the time and space required to solve the bin packing problem with N items is proportional to N.\n",
    "\n",
    "**Bin capacity**  \n",
    "This number represents the capacity (maximum weight) of each bin. This quantity is important because the number of bins required in the optimal solution will be inversely proportional to the bin capacity. Some algorithms can take advantage of small capacities to come closer to an optimal solution.\n",
    "\n",
    "**Weight of each item**  \n",
    "This number represents the weight (or size) of each item. This quantity is important because the weight of each bin (relative to the bin capacity) can dictate the number of bins required in the optimal solution. Additionally, the weight of the bins can impact the optimality of certain algorithms.\n"
   ]
  },
  {
   "cell_type": "code",
   "execution_count": null,
   "id": "3a43009b-6c6b-4569-8668-06e8b5c1d740",
   "metadata": {},
   "outputs": [],
   "source": []
  },
  {
   "cell_type": "markdown",
   "id": "217aefb9-4bf5-4975-9e18-95718b2c47ca",
   "metadata": {},
   "source": [
    "## Self-reflection questions"
   ]
  },
  {
   "cell_type": "markdown",
   "id": "4646f916-24c0-401a-ac38-7aee03e59bf7",
   "metadata": {},
   "source": [
    "As part of the self-reflection dimension of an experiential course, each member of the group is expected to answer to the following four questions:\n",
    "\n",
    "  - What process did you go through to produce this result? (Backward)\n",
    "  - What were your standards for this piece of work? Did you meet your standards? (Inward)\n",
    "  - What the one thing you particularly want people to notice when they look at your work? (Outward)\n",
    "  - What lessons will you keep from this reading/lecture in your professional practice? (Forward)"
   ]
  }
 ],
 "metadata": {
  "kernelspec": {
   "display_name": "Python 3 (ipykernel)",
   "language": "python",
   "name": "python3"
  },
  "language_info": {
   "codemirror_mode": {
    "name": "ipython",
    "version": 3
   },
   "file_extension": ".py",
   "mimetype": "text/x-python",
   "name": "python",
   "nbconvert_exporter": "python",
   "pygments_lexer": "ipython3",
   "version": "3.9.0"
  },
  "vscode": {
   "interpreter": {
    "hash": "a102ffc8e708fafde2eac7ad2f955c8f9d0ed617bb032e6a3d2a72c0e8416fb0"
   }
  }
 },
 "nbformat": 4,
 "nbformat_minor": 5
}
